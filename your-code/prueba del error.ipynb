{
 "cells": [
  {
   "cell_type": "code",
   "execution_count": 5,
   "id": "de38f844",
   "metadata": {},
   "outputs": [],
   "source": [
    "def buscar_par(n):\n",
    "    \n",
    "    if n%2==0:\n",
    "        return True\n",
    "    else:\n",
    "        return False\n"
   ]
  },
  {
   "cell_type": "code",
   "execution_count": 6,
   "id": "78c5c150",
   "metadata": {},
   "outputs": [
    {
     "data": {
      "text/plain": [
       "False"
      ]
     },
     "execution_count": 6,
     "metadata": {},
     "output_type": "execute_result"
    }
   ],
   "source": [
    "buscar_par(5)"
   ]
  },
  {
   "cell_type": "code",
   "execution_count": 9,
   "id": "3618334a",
   "metadata": {},
   "outputs": [
    {
     "ename": "NameError",
     "evalue": "name 'lst' is not defined",
     "output_type": "error",
     "traceback": [
      "\u001b[1;31m---------------------------------------------------------------------------\u001b[0m",
      "\u001b[1;31mNameError\u001b[0m                                 Traceback (most recent call last)",
      "Cell \u001b[1;32mIn[9], line 1\u001b[0m\n\u001b[1;32m----> 1\u001b[0m lst[:\u001b[38;5;241m10\u001b[39m]\n",
      "\u001b[1;31mNameError\u001b[0m: name 'lst' is not defined"
     ]
    }
   ],
   "source": [
    "lst[:10]"
   ]
  },
  {
   "cell_type": "code",
   "execution_count": 8,
   "id": "e447d990",
   "metadata": {},
   "outputs": [
    {
     "ename": "NameError",
     "evalue": "name 'lst' is not defined",
     "output_type": "error",
     "traceback": [
      "\u001b[1;31m---------------------------------------------------------------------------\u001b[0m",
      "\u001b[1;31mNameError\u001b[0m                                 Traceback (most recent call last)",
      "File \u001b[1;32m<timed eval>:1\u001b[0m\n",
      "\u001b[1;31mNameError\u001b[0m: name 'lst' is not defined"
     ]
    }
   ],
   "source": [
    "%%time\n",
    "\n",
    "filter(buscar_par, lst)"
   ]
  },
  {
   "cell_type": "code",
   "execution_count": null,
   "id": "0f040271",
   "metadata": {},
   "outputs": [],
   "source": [
    "%%time\n",
    "\n",
    "list(filter(buscar_par, lst))[:10]"
   ]
  },
  {
   "cell_type": "code",
   "execution_count": 12,
   "id": "eb85b66a",
   "metadata": {},
   "outputs": [
    {
     "name": "stdout",
     "output_type": "stream",
     "text": [
      "Aqui 1 1\n",
      "Aqui 2 1\n"
     ]
    }
   ],
   "source": [
    "z=4   # es una variable global, que la ve todo el codigo\n",
    "\n",
    "m=1   # es global\n",
    "\n",
    "\n",
    "print('Aqui 1', m)\n",
    "\n",
    "\n",
    "\n",
    "def sumar(a):\n",
    "    \n",
    "    global z, m\n",
    "    \n",
    "    # con global se vuelve global la variable y se sobreescribe\n",
    "    \n",
    "    m=29    # es local, solo la funcion la conoce\n",
    "    \n",
    "    print('Valor:', 'm:', m, '--------', 'z:', z)\n",
    "    \n",
    "    \n",
    "    num=a+z\n",
    "    \n",
    "    return num\n",
    "\n",
    "\n",
    "\n",
    "print('Aqui 2', m)"
   ]
  },
  {
   "cell_type": "code",
   "execution_count": null,
   "id": "a5ae29c3",
   "metadata": {},
   "outputs": [],
   "source": []
  }
 ],
 "metadata": {
  "kernelspec": {
   "display_name": "clase",
   "language": "python",
   "name": "clase"
  },
  "language_info": {
   "codemirror_mode": {
    "name": "ipython",
    "version": 3
   },
   "file_extension": ".py",
   "mimetype": "text/x-python",
   "name": "python",
   "nbconvert_exporter": "python",
   "pygments_lexer": "ipython3",
   "version": "3.11.5"
  }
 },
 "nbformat": 4,
 "nbformat_minor": 5
}
