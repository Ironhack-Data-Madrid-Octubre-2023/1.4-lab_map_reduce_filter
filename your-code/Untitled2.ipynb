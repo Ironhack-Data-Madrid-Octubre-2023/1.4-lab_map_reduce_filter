{
 "cells": [
  {
   "cell_type": "code",
   "execution_count": 1,
   "id": "854f5a7a",
   "metadata": {},
   "outputs": [
    {
     "name": "stdout",
     "output_type": "stream",
     "text": [
      "Flattened list:\n",
      "['If', 'you', 'look', 'at', 'the', 'elements', 'of', 'prophet_line,', 'you', 'will', 'see', 'that', 'the', 'function', 'returned', 'lists', 'and', 'not', 'strings.', 'Our', 'list', 'is', 'now', 'a', 'list', 'of', 'lists.', 'Flatten', 'the', 'list', 'using', 'list', 'comprehension.', 'Assign', 'this', 'new', 'list', 'to', 'prophet_flat.']\n"
     ]
    }
   ],
   "source": [
    "prophet_line = [['If', 'you', 'look', 'at', 'the', 'elements', 'of', 'prophet_line,'],\n",
    "                ['you', 'will', 'see', 'that', 'the', 'function', 'returned', 'lists', 'and', 'not', 'strings.'],\n",
    "                ['Our', 'list', 'is', 'now', 'a', 'list', 'of', 'lists.'],\n",
    "                ['Flatten', 'the', 'list', 'using', 'list', 'comprehension.'],\n",
    "                ['Assign', 'this', 'new', 'list', 'to', 'prophet_flat.']]\n",
    "\n",
    "# Flatten the list using list comprehension\n",
    "prophet_flat = [word for sublist in prophet_line for word in sublist]\n",
    "\n",
    "# Print the flattened list\n",
    "print(\"Flattened list:\")\n",
    "print(prophet_flat)"
   ]
  },
  {
   "cell_type": "code",
   "execution_count": null,
   "id": "59a74397",
   "metadata": {},
   "outputs": [],
   "source": []
  }
 ],
 "metadata": {
  "kernelspec": {
   "display_name": "clase",
   "language": "python",
   "name": "clase"
  },
  "language_info": {
   "codemirror_mode": {
    "name": "ipython",
    "version": 3
   },
   "file_extension": ".py",
   "mimetype": "text/x-python",
   "name": "python",
   "nbconvert_exporter": "python",
   "pygments_lexer": "ipython3",
   "version": "3.11.5"
  }
 },
 "nbformat": 4,
 "nbformat_minor": 5
}
